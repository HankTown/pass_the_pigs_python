{
 "cells": [
  {
   "cell_type": "code",
   "execution_count": 3,
   "metadata": {},
   "outputs": [
    {
     "data": {
      "text/plain": [
       "array([[ 7,  8, 26,  5,  2,  0,  3],\n",
       "       [37, 52, 55,  9,  4,  1,  4],\n",
       "       [30, 22, 29,  3,  0,  0,  0],\n",
       "       [33, 44, 34,  4,  0,  0,  0],\n",
       "       [29, 34, 40, 12,  1,  0,  0],\n",
       "       [11, 21, 29, 11,  2,  2,  3],\n",
       "       [15, 15, 30, 12,  3,  0,  0],\n",
       "       [17, 29, 35,  6,  4,  1,  9],\n",
       "       [23, 21, 24, 11,  2,  1,  5],\n",
       "       [20, 27, 18,  5,  1,  0,  4],\n",
       "       [16, 20, 30, 14,  7,  1,  1],\n",
       "       [28, 40, 36,  8,  2,  0,  0],\n",
       "       [10, 30, 27,  9,  7,  0,  9]])"
      ]
     },
     "execution_count": 3,
     "metadata": {},
     "output_type": "execute_result"
    }
   ],
   "source": [
    "### Pass the Pigs\n",
    "#Frequencies from the histograms made on Monday 5/6/2019\n",
    "## Dot, NoDot, Razor,Trottor, Sounter, Leaning Jowler, Other\n",
    "import numpy as np\n",
    "F=np.array([[7,8,26,5,2,0,3], [37, 52, 55, 9, 4, 1,4], [30,22, 29, 3, 0, 0,0], [33, 44, 34, 4, 0,0,0], [29, 34, 40, 12, 1, 0,0], [11,21,29,11,2,2,3],[15,15,30,12,3,0,0],[17,29,35,6,4,1,9],[23,21,24,11,2,1,5],[20,27,18,5,1,0,4],[16,20,30,14,7,1,1],[28,40,36,8,2,0,0],[10,30,27,9,7,0,9]])\n",
    "F"
   ]
  },
  {
   "cell_type": "code",
   "execution_count": 4,
   "metadata": {},
   "outputs": [
    {
     "data": {
      "text/plain": [
       "array([276, 363, 413, 109,  35,   6])"
      ]
     },
     "execution_count": 4,
     "metadata": {},
     "output_type": "execute_result"
    }
   ],
   "source": [
    "## Score function: Feel free to modify or reimplement this code however you want to.\n",
    "\n",
    "def Score (x, roll):\n",
    "    if roll[0]>roll[1]:\n",
    "        temp=roll[1]\n",
    "        roll[1]=roll[0]\n",
    "        roll[0]=temp\n",
    "    if roll == [1,1]: ## sider with dots showing\n",
    "        return x+1\n",
    "    elif roll == [2,2]: ## sider with nodots showing\n",
    "        return x+1\n",
    "    elif roll == [3,3]: ## double razor\n",
    "        return x+ 20\n",
    "    elif roll == [4,4]: ## double trotter\n",
    "        return x+20\n",
    "    elif roll == [5,5]: ## double snouter\n",
    "        return x+40\n",
    "    elif roll == [6,6]: ##  double leaning jowler\n",
    "        return x+60\n",
    "    elif roll == [1,2]: ## pig out\n",
    "        return 0\n",
    "    elif roll == [1,3]or[2,3]: ## razor\n",
    "        return x+5\n",
    "    elif roll == [1,4]or[2,4]: ## trotter\n",
    "        return x+5\n",
    "    elif roll == [1,5]or[2,5]: ## snouter\n",
    "        return x+10\n",
    "    elif roll == [1,6]or[2,6]: ## leaning jowler\n",
    "        return x+15\n",
    "    elif roll == [3,4]: # razor plus trotter\n",
    "        return x + 5+5\n",
    "    elif roll == [3,5]: #razor plus snouter\n",
    "        return x + 5+10\n",
    "    elif roll == [3,6]: #razor plus leaning jowler\n",
    "        return x + 5+ 15\n",
    "    elif roll == [4,5]: #trotter plus snouter\n",
    "        return x + 5+10\n",
    "    elif roll == [4,6]: #trotter plus leaning jowler\n",
    "        return x + 5+ 15\n",
    "    elif roll == [5,6]: #trotter plus leaning jowler\n",
    "        return x + 10+ 15\n",
    "    elif (roll[0] == 7) or (roll[1] == 7 ): #other rolled, reroll with no penalty\n",
    "        return x\n",
    "    \n",
    "counts=sum(F[:,:6]) # not counting other rolls\n",
    "counts\n",
    "    "
   ]
  },
  {
   "cell_type": "code",
   "execution_count": 5,
   "metadata": {},
   "outputs": [
    {
     "data": {
      "text/plain": [
       "array([0.2296173 , 0.30199667, 0.34359401, 0.0906822 , 0.02911814,\n",
       "       0.00499168])"
      ]
     },
     "execution_count": 5,
     "metadata": {},
     "output_type": "execute_result"
    }
   ],
   "source": [
    "P_sum=np.sum(counts)\n",
    "P=counts/P_sum\n",
    "P"
   ]
  },
  {
   "cell_type": "code",
   "execution_count": 6,
   "metadata": {},
   "outputs": [
    {
     "data": {
      "text/plain": [
       "0.9999999999999999"
      ]
     },
     "execution_count": 6,
     "metadata": {},
     "output_type": "execute_result"
    }
   ],
   "source": [
    "np.sum(P)"
   ]
  },
  {
   "cell_type": "code",
   "execution_count": 7,
   "metadata": {},
   "outputs": [
    {
     "data": {
      "text/plain": [
       "0.49027474004042626"
      ]
     },
     "execution_count": 7,
     "metadata": {},
     "output_type": "execute_result"
    }
   ],
   "source": [
    "import random\n",
    "random.random()"
   ]
  },
  {
   "cell_type": "code",
   "execution_count": 8,
   "metadata": {},
   "outputs": [
    {
     "data": {
      "text/plain": [
       "array([0.        , 0.2296173 , 0.53161398, 0.87520799, 0.96589018,\n",
       "       0.99500832, 1.        ])"
      ]
     },
     "execution_count": 8,
     "metadata": {},
     "output_type": "execute_result"
    }
   ],
   "source": [
    "CDF = np.append([0],np.cumsum(P))\n",
    "CDF #cumulative distribution function for 7 possibilities is given by list of 7 numbers"
   ]
  },
  {
   "cell_type": "code",
   "execution_count": 9,
   "metadata": {},
   "outputs": [
    {
     "data": {
      "text/plain": [
       "array([0, 1, 2, 2, 2, 0, 2, 2, 1, 0, 2, 2, 1, 1, 2, 1, 0, 1, 1, 1, 0, 0,\n",
       "       1, 1, 3, 1, 0, 0, 2, 2, 0, 1, 2, 3, 0, 2, 0, 2, 0, 1, 1, 2, 0, 2,\n",
       "       2, 1, 2, 1, 1, 1, 1, 2, 2, 2, 1, 3, 0, 4, 1, 1, 2, 0, 2, 1, 1, 1,\n",
       "       1, 1, 1, 1, 1, 1, 0, 2, 3, 2, 2, 0, 2, 1, 3, 2, 0, 2, 2, 1, 1, 1,\n",
       "       2, 2, 2, 2, 1, 2, 3, 2, 1, 1, 2, 2])"
      ]
     },
     "execution_count": 9,
     "metadata": {},
     "output_type": "execute_result"
    }
   ],
   "source": [
    "def pigroll():\n",
    "    x = random.random()\n",
    "    roll =-1\n",
    "    for i in range(7):\n",
    "        if x>CDF[i]:\n",
    "            roll = roll + 1\n",
    "    return roll\n",
    "np.array([pigroll() for i in range(100)])"
   ]
  },
  {
   "cell_type": "code",
   "execution_count": 10,
   "metadata": {},
   "outputs": [
    {
     "data": {
      "text/plain": [
       "[213, 322, 337, 83, 43, 2]"
      ]
     },
     "execution_count": 10,
     "metadata": {},
     "output_type": "execute_result"
    }
   ],
   "source": [
    "Test = [0 for i in range(6)] ## Looks like we are getting some numbers larger and some smaller than they should be\n",
    "for i in range(1000):\n",
    "    temp = pigroll()\n",
    "    Test[temp] = Test[temp]+1\n",
    "Test"
   ]
  },
  {
   "cell_type": "code",
   "execution_count": 11,
   "metadata": {},
   "outputs": [
    {
     "data": {
      "text/plain": [
       "[0.22961730449251247,\n",
       " 0.3019966722129784,\n",
       " 0.34359400998336104,\n",
       " 0.09068219633943428,\n",
       " 0.029118136439267885,\n",
       " 0.004991680532445923]"
      ]
     },
     "execution_count": 11,
     "metadata": {},
     "output_type": "execute_result"
    }
   ],
   "source": [
    "[float(p) for p in P]"
   ]
  },
  {
   "cell_type": "code",
   "execution_count": 12,
   "metadata": {},
   "outputs": [
    {
     "data": {
      "text/plain": [
       "[2310, 3063, 3430, 883, 265, 49]"
      ]
     },
     "execution_count": 12,
     "metadata": {},
     "output_type": "execute_result"
    }
   ],
   "source": [
    "Test2 = [0 for i in range(6)] ## looks better!\n",
    "for i in range(10000):\n",
    "    temp = pigroll()\n",
    "    Test2[temp] = Test2[temp]+1\n",
    "Test2"
   ]
  },
  {
   "cell_type": "code",
   "execution_count": 13,
   "metadata": {},
   "outputs": [
    {
     "data": {
      "text/plain": [
       "([3, 3], 23)"
      ]
     },
     "execution_count": 13,
     "metadata": {},
     "output_type": "execute_result"
    }
   ],
   "source": [
    "roll = [pigroll()+1, pigroll()+1]\n",
    "\n",
    "roll, Score(3, roll)"
   ]
  },
  {
   "cell_type": "code",
   "execution_count": 14,
   "metadata": {},
   "outputs": [
    {
     "data": {
      "text/plain": [
       "20"
      ]
     },
     "execution_count": 14,
     "metadata": {},
     "output_type": "execute_result"
    }
   ],
   "source": [
    "Record_Scores=[]\n",
    "for i in range(100):\n",
    "    ## simulation of rolling two pig dice\n",
    "    roll = [pigroll()+1, pigroll()+1]\n",
    "    Record_Scores.append(Score(0, roll))\n",
    "max(Record_Scores)"
   ]
  },
  {
   "cell_type": "code",
   "execution_count": 15,
   "metadata": {},
   "outputs": [
    {
     "name": "stdout",
     "output_type": "stream",
     "text": [
      "[5, 0, 5, 20, 5, 5, 20, 5, 5, 5, 5, 5, 0, 20, 5, 5, 0, 5, 5, 5, 0, 0, 0, 5, 5, 5, 5, 20, 0, 5, 5, 0, 5, 0, 5, 5, 0, 5, 5, 5, 5, 5, 1, 5, 5, 5, 0, 5, 5, 5, 5, 0, 5, 5, 5, 1, 5, 5, 20, 5, 1, 1, 1, 5, 5, 1, 20, 5, 1, 5, 5, 5, 0, 5, 5, 0, 5, 1, 5, 5, 5, 1, 1, 20, 1, 0, 5, 5, 1, 1, 5, 5, 5, 1, 5, 0, 5, 0, 5, 0]\n"
     ]
    }
   ],
   "source": [
    "print(Record_Scores)"
   ]
  },
  {
   "cell_type": "code",
   "execution_count": 16,
   "metadata": {
    "scrolled": true
   },
   "outputs": [
    {
     "data": {
      "text/plain": [
       "array([18, 14,  0,  0,  0, 61,  0,  0,  0,  0,  0,  0,  0,  0,  0,  0,  0,\n",
       "        0,  0,  0,  7,  0,  0,  0,  0,  0,  0,  0,  0,  0,  0,  0,  0,  0,\n",
       "        0,  0,  0,  0,  0,  0,  0,  0,  0,  0,  0,  0,  0,  0,  0,  0,  0,\n",
       "        0,  0,  0,  0,  0,  0,  0,  0,  0,  0])"
      ]
     },
     "execution_count": 16,
     "metadata": {},
     "output_type": "execute_result"
    }
   ],
   "source": [
    "Totals = np.array([0 for i in range(61)])\n",
    "for i in Record_Scores:\n",
    "    Totals[i]=Totals[i]+1\n",
    "Totals"
   ]
  },
  {
   "cell_type": "code",
   "execution_count": 17,
   "metadata": {},
   "outputs": [
    {
     "name": "stdout",
     "output_type": "stream",
     "text": [
      "[0.18, 0.14, 0.0, 0.0, 0.0, 0.61, 0.0, 0.0, 0.0, 0.0, 0.0, 0.0, 0.0, 0.0, 0.0, 0.0, 0.0, 0.0, 0.0, 0.0, 0.07, 0.0, 0.0, 0.0, 0.0, 0.0, 0.0, 0.0, 0.0, 0.0, 0.0, 0.0, 0.0, 0.0, 0.0, 0.0, 0.0, 0.0, 0.0, 0.0, 0.0, 0.0, 0.0, 0.0, 0.0, 0.0, 0.0, 0.0, 0.0, 0.0, 0.0, 0.0, 0.0, 0.0, 0.0, 0.0, 0.0, 0.0, 0.0, 0.0, 0.0]\n"
     ]
    }
   ],
   "source": [
    "Q=[Totals[i]/100 for i in range(61)]\n",
    "## probability of +0, +1, +2 ,...\n",
    "print(Q)"
   ]
  },
  {
   "cell_type": "code",
   "execution_count": 18,
   "metadata": {},
   "outputs": [
    {
     "data": {
      "text/plain": [
       "4.59"
      ]
     },
     "execution_count": 18,
     "metadata": {},
     "output_type": "execute_result"
    }
   ],
   "source": [
    "EV=np.sum(i*Q[i] for i in range(1,61))\n",
    "EV"
   ]
  },
  {
   "cell_type": "code",
   "execution_count": 19,
   "metadata": {},
   "outputs": [
    {
     "data": {
      "text/plain": [
       "[<matplotlib.lines.Line2D at 0x207d9f06198>]"
      ]
     },
     "execution_count": 19,
     "metadata": {},
     "output_type": "execute_result"
    }
   ],
   "source": [
    "x=np.array([i for i in range(61)])\n",
    "y=np.array([i*(1-Q[0])+EV for i in range(61)])\n",
    "import matplotlib.pyplot as plt\n",
    "plt.plot(x,y)"
   ]
  },
  {
   "cell_type": "code",
   "execution_count": 20,
   "metadata": {},
   "outputs": [
    {
     "name": "stdout",
     "output_type": "stream",
     "text": [
      "25.5\n",
      "15.759\n"
     ]
    },
    {
     "data": {
      "image/png": "[encoded data removed]",
      "text/plain": [
       "<Figure size 432x288 with 1 Axes>"
      ]
     },
     "metadata": {},
     "output_type": "display_data"
    }
   ],
   "source": [
    "plt.plot(x,y)\n",
    "plt.plot(x,x)\n",
    "ceil_score=EV/Q[0]\n",
    "print(ceil_score)\n",
    "treshold=ceil_score*0.618\n",
    "print(treshold)"
   ]
  },
  {
   "cell_type": "code",
   "execution_count": 21,
   "metadata": {},
   "outputs": [
    {
     "data": {
      "text/plain": [
       "True"
      ]
     },
     "execution_count": 21,
     "metadata": {},
     "output_type": "execute_result"
    }
   ],
   "source": [
    "## sample strategy:stop at 10\n",
    "def sara_billey_slow_and_steedy (opponentscore, myscore, myturnscore,round):\n",
    "    if myturnscore>10:\n",
    "        return False\n",
    "    else:\n",
    "        return True\n",
    "\n",
    "sara_billey_slow_and_steedy (99,10,2,4)\n"
   ]
  },
  {
   "cell_type": "markdown",
   "metadata": {},
   "source": [
    "## My strategy:\n",
    "Here are some of my consideration about this problem:  \n",
    "* There should be a ceiling score that you should not roll anymore once your turn score get to the ceil  \n",
    "* If opponentscore>myscore,we should try to take risks and get a higher score\n",
    "* If myscore>opponentscore,we'd better not to take risks\n",
    "* If round time is dangerous for us to continue,stop rolling  \n",
    "  \n",
    "According to above thought,my strategy is interpreted as follow:  \n",
    "* Calculate the ceiling score,it's exactly the intersection point on the Expect score plot.\n",
    "* Choose initial treshold value as 0.618*ceil_score to get a golden section(as the sara_billey_slow_and_steedy strategy's treshold is 10)\n",
    "* According to score gap,dynamic adjust the treshold,but the is a min treshold as 10 and a max treshold as ceil_score.\n",
    "* If round times is more than 6,stop rolling.\n",
    "* Use chosen treshold make a decision,return True for roll,False for stop this turn."
   ]
  },
  {
   "cell_type": "code",
   "execution_count": 22,
   "metadata": {},
   "outputs": [
    {
     "data": {
      "text/plain": [
       "True"
      ]
     },
     "execution_count": 22,
     "metadata": {},
     "output_type": "execute_result"
    }
   ],
   "source": [
    "## my strategy:make decision based on treshold(ceil_score*0.618),increase treshold or decrease it according to score_gap(opponentscore-myscore).\n",
    "def my_strategy_yanchen_liu(opponentscore, myscore, myturnscore,roundtime):\n",
    "    treshold=ceil_score*0.618-2 # Choose initial treshold value as 0.618*ceil_score\n",
    "    score_gap=opponentscore-myscore # Caculate score_gap\n",
    "    treshold=treshold+score_gap# if score_gap>0,increase treshold;if score_gap<0,decrease treshold.\n",
    "    if treshold>ceil_score:\n",
    "        treshold=ceil_score # the max treshold is ceil_score\n",
    "    elif treshold<10:\n",
    "        treshold=10 # the min treshold is 10\n",
    "        \n",
    "    # stop this turn for the round times is too dagerous:\n",
    "    if roundtime > 6:\n",
    "        return False\n",
    "    \n",
    "    # now,we do the decision according to treshold and myturnscore\n",
    "    if myturnscore>treshold:\n",
    "        return False\n",
    "    else:\n",
    "        return True\n",
    "\n",
    "#test\n",
    "my_strategy_yanchen_liu (1,10,9,4)\n",
    "    "
   ]
  },
  {
   "cell_type": "code",
   "execution_count": 24,
   "metadata": {},
   "outputs": [
    {
     "name": "stdout",
     "output_type": "stream",
     "text": [
      "the win ratio of player1 is:0.378000\n",
      "the win ratio of player1 is:0.696000\n"
     ]
    }
   ],
   "source": [
    "def competition_simulation(player1,player2,num):\n",
    "    ## this is a game simulate function,\n",
    "    ## player1,player2:str of 2 players' name,should be 'slow_and_steedy' or 'my_strategy'\n",
    "    ## times: the simulation times of the competition\n",
    "    player1_win_times=0 # player1_win_times record the winning times of player1\n",
    "    for t in range(num):# do the competition for num times\n",
    "        score1=0\n",
    "        score2=0\n",
    "        turnscore1=0\n",
    "        turnscore2=0\n",
    "        roundtime=0\n",
    "        nowplayer=1\n",
    "        while nowplayer!=3:# stop until one win\n",
    "            if nowplayer==1:# it's player1's turn\n",
    "                while 1:\n",
    "                    if player1==\"slow_and_steedy\":\n",
    "                        if sara_billey_slow_and_steedy(score2,score1,turnscore1,roundtime):# 'slow_and_steedy' player1 roll\n",
    "                            roll = [pigroll()+1, pigroll()+1]\n",
    "                            #print(\"1 slow_and_steedy:\")\n",
    "                            turnscore1=Score(turnscore1, roll)\n",
    "                            #print(turnscore1)\n",
    "                            if turnscore1==0:\n",
    "                                nowplayer=2\n",
    "                                break\n",
    "                            elif turnscore1>99:\n",
    "                                player1_win_times=player1_win_times+1\n",
    "                                nowplayer=3\n",
    "                                break\n",
    "                            roundtime=roundtime+1\n",
    "                        else:# 'slow_and_steedy' player1 stop his turn\n",
    "                            roundtime=0\n",
    "                            score1=score1+turnscore1\n",
    "                            turnscore1=0\n",
    "                            nowplayer=2\n",
    "                            if score1>99:\n",
    "                                player1_win_times=player1_win_times+1\n",
    "                                nowplayer=3\n",
    "                            break\n",
    "                    elif player1==\"my_strategy\":\n",
    "                        if my_strategy_yanchen_liu(score2,score1,turnscore1,roundtime):# 'my_strategy' player1 roll\n",
    "                            roll = [pigroll()+1, pigroll()+1]\n",
    "                            #print(\"1 my_strategy:\")\n",
    "                            turnscore1=Score(turnscore1, roll)\n",
    "                            #print(turnscore1)\n",
    "                            if turnscore1==0:\n",
    "                                nowplayer=2\n",
    "                                break\n",
    "                            elif turnscore1>99:\n",
    "                                player1_win_times=player1_win_times+1\n",
    "                                nowplayer=3\n",
    "                                break\n",
    "                            roundtime=roundtime+1\n",
    "                        else:# 'my_strategy' player1 stop his turn\n",
    "                            roundtime=0\n",
    "                            score1=score1+turnscore1\n",
    "                            turnscore1=0\n",
    "                            nowplayer=2\n",
    "                            if score1>99:\n",
    "                                player1_win_times=player1_win_times+1\n",
    "                                nowplayer=3\n",
    "                            break\n",
    "            elif nowplayer==2:# it's player2's turn\n",
    "                while 1:\n",
    "                    if player2==\"slow_and_steedy\":\n",
    "                        if sara_billey_slow_and_steedy(score1,score2,turnscore2,roundtime):# 'slow_and_steedy' player2 roll\n",
    "                            roll = [pigroll()+1, pigroll()+1]\n",
    "                            #print(\"2 slow_and_steedy:\")\n",
    "                            turnscore2=Score(turnscore2, roll)\n",
    "                            #print(turnscore2)\n",
    "                            if turnscore2==0:\n",
    "                                nowplayer=1\n",
    "                                break\n",
    "                            elif turnscore2>99:\n",
    "                                nowplayer=3\n",
    "                                break\n",
    "                            roundtime=roundtime+1\n",
    "                        else:# 'slow_and_steedy' player1 stop his turn\n",
    "                            roundtime=0\n",
    "                            score2=score2+turnscore2\n",
    "                            turnscore2=0\n",
    "                            nowplayer=1\n",
    "                            if score2>99:\n",
    "                                nowplayer=3\n",
    "                            break\n",
    "                    elif player2==\"my_strategy\":\n",
    "                        if my_strategy_yanchen_liu(score1,score2,turnscore2,roundtime):# 'my_strategy' player1 roll\n",
    "                            roll = [pigroll()+1, pigroll()+1]\n",
    "                            #print(\"2 my_strategy:\")\n",
    "                            turnscore2=Score(turnscore2, roll)\n",
    "                            #print(turnscore2)\n",
    "                            if turnscore2==0:\n",
    "                                nowplayer=1\n",
    "                                break\n",
    "                            elif turnscore2>99:\n",
    "                                nowplayer=3\n",
    "                                break\n",
    "                            roundtime=roundtime+1\n",
    "                        else:# 'my_strategy' player1 roll\n",
    "                            roundtime=0\n",
    "                            score2=score2+turnscore2\n",
    "                            turnscore2=0\n",
    "                            nowplayer=1\n",
    "                            if score2>99:\n",
    "                                nowplayer=3\n",
    "                            break\n",
    "                           \n",
    "    print(\"the win ratio of player1 is:%f\"%(player1_win_times/num)) # output the win ratio of player1\n",
    "\n",
    "                    \n",
    "competition_simulation(\"slow_and_steedy\",\"my_strategy\",1000)\n",
    "competition_simulation(\"my_strategy\",\"slow_and_steedy\",1000)\n"
   ]
  },
  {
   "cell_type": "code",
   "execution_count": null,
   "metadata": {},
   "outputs": [],
   "source": []
  },
  {
   "cell_type": "code",
   "execution_count": null,
   "metadata": {},
   "outputs": [],
   "source": []
  }
 ],
 "metadata": {
  "kernelspec": {
   "display_name": "Python 3",
   "language": "python",
   "name": "python3"
  },
  "language_info": {
   "codemirror_mode": {
    "name": "ipython",
    "version": 3
   },
   "file_extension": ".py",
   "mimetype": "text/x-python",
   "name": "python",
   "nbconvert_exporter": "python",
   "pygments_lexer": "ipython3",
   "version": "3.6.5"
  }
 },
 "nbformat": 4,
 "nbformat_minor": 2
}
